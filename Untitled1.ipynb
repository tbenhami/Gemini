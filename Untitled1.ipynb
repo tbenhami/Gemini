{
  "nbformat": 4,
  "nbformat_minor": 0,
  "metadata": {
    "colab": {
      "provenance": [],
      "authorship_tag": "ABX9TyPaMHQEbZoGUBXDauDAgtXd",
      "include_colab_link": true
    },
    "kernelspec": {
      "name": "python3",
      "display_name": "Python 3"
    },
    "language_info": {
      "name": "python"
    }
  },
  "cells": [
    {
      "cell_type": "markdown",
      "metadata": {
        "id": "view-in-github",
        "colab_type": "text"
      },
      "source": [
        "<a href=\"https://colab.research.google.com/github/tbenhami/Gemini/blob/main/Untitled1.ipynb\" target=\"_parent\"><img src=\"https://colab.research.google.com/assets/colab-badge.svg\" alt=\"Open In Colab\"/></a>"
      ]
    },
    {
      "cell_type": "markdown",
      "source": [
        "Instalando o SDK do Google"
      ],
      "metadata": {
        "id": "IdRIQAtyySzy"
      }
    },
    {
      "cell_type": "code",
      "execution_count": 1,
      "metadata": {
        "id": "BygeA9NHx7by"
      },
      "outputs": [],
      "source": [
        "!pip install -q -U google-generativeai"
      ]
    },
    {
      "cell_type": "markdown",
      "source": [
        "Importando o SDK Python"
      ],
      "metadata": {
        "id": "mckbsYmcy34t"
      }
    },
    {
      "cell_type": "code",
      "source": [
        "# Import the Python SDK\n",
        "import google.generativeai as genai\n",
        "# Used to securely store your API key\n",
        "from google.colab import userdata\n",
        "api_key = userdata.get(\"SECRET_KEY\")\n",
        "\n",
        "genai.configure(api_key = api_key)"
      ],
      "metadata": {
        "id": "Kwn117bOyvmu"
      },
      "execution_count": 12,
      "outputs": []
    },
    {
      "cell_type": "markdown",
      "source": [
        "Listar o modelos disponíveis"
      ],
      "metadata": {
        "id": "gMNp8SjazTGS"
      }
    },
    {
      "cell_type": "code",
      "source": [
        "for m in genai.list_models():\n",
        " if 'generateContent' in m.supported_generation_methods:\n",
        "  print(m.name)"
      ],
      "metadata": {
        "colab": {
          "base_uri": "https://localhost:8080/",
          "height": 138
        },
        "id": "pu1YdF22zSER",
        "outputId": "cd0fb678-af12-4c59-95e9-b00400ebdd69"
      },
      "execution_count": 3,
      "outputs": [
        {
          "output_type": "stream",
          "name": "stdout",
          "text": [
            "models/gemini-1.0-pro\n",
            "models/gemini-1.0-pro-001\n",
            "models/gemini-1.0-pro-latest\n",
            "models/gemini-1.0-pro-vision-latest\n",
            "models/gemini-1.5-pro-latest\n",
            "models/gemini-pro\n",
            "models/gemini-pro-vision\n"
          ]
        }
      ]
    },
    {
      "cell_type": "markdown",
      "source": [
        "Configurações de Resultado"
      ],
      "metadata": {
        "id": "f3IoantL3xwT"
      }
    },
    {
      "cell_type": "code",
      "source": [
        "config={\n",
        "  \"candidate_count\": 1,\n",
        "  \"temperature\":0.5\n",
        "}"
      ],
      "metadata": {
        "id": "fagkV0MB2oEr"
      },
      "execution_count": 4,
      "outputs": []
    },
    {
      "cell_type": "markdown",
      "source": [
        "Configurações de Segurança"
      ],
      "metadata": {
        "id": "PcmmFHy-31w5"
      }
    },
    {
      "cell_type": "code",
      "source": [
        "  #preciso descobrir o que está de errado!!!\n",
        "  safety = {\n",
        "    \"HARASSMENT\": \"BLOCK_SOME\",\n",
        "    \"HATE\": \"BLOCK_SOME\",\n",
        "    \"SEXUAL\": \"BLOCK_SOME\",\n",
        "    \"DANGEROUS\": \"BLOCK_NONE\",\n",
        "}"
      ],
      "metadata": {
        "id": "L4F_rwv83wUe"
      },
      "execution_count": 5,
      "outputs": []
    },
    {
      "cell_type": "markdown",
      "source": [
        "Iniciando o Modelo"
      ],
      "metadata": {
        "id": "36X5yX7g5hCN"
      }
    },
    {
      "cell_type": "code",
      "source": [
        "model = genai.GenerativeModel(model_name=\"gemini-1.0-pro\",\n",
        "                              generation_config=config\n",
        "                              #safety_settings=safety\n",
        "                              )"
      ],
      "metadata": {
        "id": "OOUl-CXP5jG6"
      },
      "execution_count": 6,
      "outputs": []
    },
    {
      "cell_type": "markdown",
      "source": [
        "Texto Generativo"
      ],
      "metadata": {
        "id": "YWW6X4Ye_ub-"
      }
    },
    {
      "cell_type": "code",
      "source": [
        "response = model.generate_content(\"Me conte uma breve histório do Don Pedro I\")\n",
        "print(response.text)"
      ],
      "metadata": {
        "colab": {
          "base_uri": "https://localhost:8080/",
          "height": 433
        },
        "id": "gBLrUdGq_xR2",
        "outputId": "7dc244eb-ca1d-4cba-c582-e0c9723edb08"
      },
      "execution_count": 7,
      "outputs": [
        {
          "output_type": "stream",
          "name": "stdout",
          "text": [
            "**Nascimento e Primeiros Anos:**\n",
            "\n",
            "* Pedro I nasceu em 1798 em Queluz, Portugal, como filho do Rei João VI e da Rainha Carlota Joaquina.\n",
            "* Foi educado no Brasil, onde sua família se refugiou durante as Guerras Napoleônicas.\n",
            "\n",
            "**Regência no Brasil:**\n",
            "\n",
            "* Em 1821, Dom João VI retornou a Portugal, deixando Pedro como regente do Brasil.\n",
            "* Pedro liderou um movimento de independência contra Portugal, culminando na Declaração da Independência em 1822.\n",
            "\n",
            "**Império do Brasil:**\n",
            "\n",
            "* Pedro I foi coroado Imperador do Brasil em 1822.\n",
            "* Seu reinado foi marcado por conflitos políticos e econômicos, incluindo a Guerra da Cisplatina (1825-1828) e a revolta da Confederação do Equador (1824).\n",
            "\n",
            "**Abdicação e Retorno a Portugal:**\n",
            "\n",
            "* Em 1831, Pedro I abdicou do trono brasileiro em favor de seu filho, Pedro II.\n",
            "* Ele retornou a Portugal e lutou nas Guerras Liberais contra seu irmão, Miguel I.\n",
            "\n",
            "**Morte:**\n",
            "\n",
            "* Pedro I morreu em 1834, aos 35 anos, devido à tuberculose.\n",
            "* Ele é considerado um herói nacional no Brasil por seu papel na independência do país.\n"
          ]
        }
      ]
    },
    {
      "cell_type": "code",
      "source": [
        "chat = model.start_chat(history=[])"
      ],
      "metadata": {
        "id": "XBQwKpt1AMTn"
      },
      "execution_count": 8,
      "outputs": []
    },
    {
      "cell_type": "code",
      "source": [
        "prompt = input(\"Digite a sua pergunta: \")\n",
        "\n",
        "while prompt != \"fim\":\n",
        "  response = chat.send_message(prompt)\n",
        "  print(\"Resposta: \", response.text, \"\\n\")\n",
        "  prompt = input(\"Digite a sua pergunta: \")"
      ],
      "metadata": {
        "colab": {
          "base_uri": "https://localhost:8080/",
          "height": 590
        },
        "id": "YIa_ptz2A2y1",
        "outputId": "0abc4625-0e8a-453a-cbb3-a8dc036cb6f1"
      },
      "execution_count": 9,
      "outputs": [
        {
          "name": "stdout",
          "output_type": "stream",
          "text": [
            "Digite a sua pergunta: Você conhece Monte Alto?\n",
            "Resposta:  Sim, conheço Monte Alto.\n",
            "\n",
            "**Sobre Monte Alto:**\n",
            "\n",
            "* **Localização:** Estado de São Paulo, Brasil\n",
            "* **Região:** Noroeste Paulista\n",
            "* **População:** Aproximadamente 48.000 habitantes (2021)\n",
            "* **Área:** 325,4 km²\n",
            "* **Economia:** Baseada na agropecuária, indústria e comércio\n",
            "\n",
            "**Características:**\n",
            "\n",
            "* Conhecida como a \"Capital Nacional do Leite\" devido à sua grande produção leiteira\n",
            "* Possui um campus da Universidade Estadual Paulista (UNESP)\n",
            "* Abriga o Museu Histórico e Pedagógico \"João Baptista de Mello e Souza\"\n",
            "* Sede da Festa Nacional do Leite, um evento anual que celebra a produção leiteira da região\n",
            "\n",
            "**Pontos turísticos:**\n",
            "\n",
            "* Parque Ecológico Municipal \"João Domingues de Almeida\"\n",
            "* Horto Florestal Municipal\n",
            "* Catedral de Santo Antônio\n",
            "* Estação Ferroviária de Monte Alto\n",
            "\n",
            "**Outras informações:**\n",
            "\n",
            "* Fundada em 1898\n",
            "* Possui uma área rural extensa com várias fazendas e sítios\n",
            "* É uma cidade tranquila e acolhedora com uma população hospitaleira\n",
            "* Tem uma boa infraestrutura, incluindo hospitais, escolas e serviços essenciais \n",
            "\n",
            "Digite a sua pergunta: fim\n"
          ]
        }
      ]
    },
    {
      "cell_type": "code",
      "source": [
        "# Melhorando a visualização\n",
        "# Código disponível em https://ai.google.dev/tutorials/python_quickstart#import_packages\n",
        "\n",
        "import textwrap\n",
        "from IPython.display import display\n",
        "\n",
        "from IPython.display import Markdown\n",
        "\n",
        "def to_markdown(text):\n",
        "    \"\"\"\n",
        "    Converte texto em Markdown.\n",
        "\n",
        "    Args:\n",
        "        text: O texto a ser convertido.\n",
        "\n",
        "    Returns:\n",
        "        Um objeto Markdown.\n",
        "    \"\"\"\n",
        "    text = text.replace(\".\", \"\\n\")\n",
        "    return Markdown(textwrap.indent(text,'> ', predicate=lambda _: True))\n",
        "\n",
        "# Imprimindo o histórico\n",
        "for message in chat.history:\n",
        "    display(to_markdown(f\"({message.role})**: {message.parts[0].text}\"))\n",
        "\n",
        "print(\" \")\n"
      ],
      "metadata": {
        "colab": {
          "base_uri": "https://localhost:8080/",
          "height": 523
        },
        "id": "yPi26w6zEVMt",
        "outputId": "adc0e391-0482-40c6-80ed-f67951d2c135"
      },
      "execution_count": 10,
      "outputs": [
        {
          "output_type": "display_data",
          "data": {
            "text/plain": [
              "<IPython.core.display.Markdown object>"
            ],
            "text/markdown": "> (user)**: Você conhece Monte Alto?"
          },
          "metadata": {}
        },
        {
          "output_type": "display_data",
          "data": {
            "text/plain": [
              "<IPython.core.display.Markdown object>"
            ],
            "text/markdown": "> (model)**: Sim, conheço Monte Alto\n> \n> \n> **Sobre Monte Alto:**\n> \n> * **Localização:** Estado de São Paulo, Brasil\n> * **Região:** Noroeste Paulista\n> * **População:** Aproximadamente 48\n> 000 habitantes (2021)\n> * **Área:** 325,4 km²\n> * **Economia:** Baseada na agropecuária, indústria e comércio\n> \n> **Características:**\n> \n> * Conhecida como a \"Capital Nacional do Leite\" devido à sua grande produção leiteira\n> * Possui um campus da Universidade Estadual Paulista (UNESP)\n> * Abriga o Museu Histórico e Pedagógico \"João Baptista de Mello e Souza\"\n> * Sede da Festa Nacional do Leite, um evento anual que celebra a produção leiteira da região\n> \n> **Pontos turísticos:**\n> \n> * Parque Ecológico Municipal \"João Domingues de Almeida\"\n> * Horto Florestal Municipal\n> * Catedral de Santo Antônio\n> * Estação Ferroviária de Monte Alto\n> \n> **Outras informações:**\n> \n> * Fundada em 1898\n> * Possui uma área rural extensa com várias fazendas e sítios\n> * É uma cidade tranquila e acolhedora com uma população hospitaleira\n> * Tem uma boa infraestrutura, incluindo hospitais, escolas e serviços essenciais"
          },
          "metadata": {}
        },
        {
          "output_type": "stream",
          "name": "stdout",
          "text": [
            " \n"
          ]
        }
      ]
    }
  ]
}